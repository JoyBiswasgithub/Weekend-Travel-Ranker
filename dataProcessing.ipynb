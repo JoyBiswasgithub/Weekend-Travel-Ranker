{
 "cells": [
  {
   "cell_type": "code",
   "execution_count": null,
   "metadata": {},
   "outputs": [],
   "source": [
    "import pandas as pd\n",
    "import matplotlib.pyplot as plt\n",
    "import seaborn as sns\n",
    "\n"
   ]
  },
  {
   "cell_type": "code",
   "execution_count": 78,
   "metadata": {},
   "outputs": [],
   "source": [
    "data = pd.read_csv('Top Indian Places to Visit.csv')"
   ]
  },
  {
   "cell_type": "code",
   "execution_count": 79,
   "metadata": {},
   "outputs": [
    {
     "data": {
      "text/plain": [
       "(325, 16)"
      ]
     },
     "execution_count": 79,
     "metadata": {},
     "output_type": "execute_result"
    }
   ],
   "source": [
    "data.shape"
   ]
  },
  {
   "cell_type": "code",
   "execution_count": 80,
   "metadata": {},
   "outputs": [
    {
     "data": {
      "text/html": [
       "<div>\n",
       "<style scoped>\n",
       "    .dataframe tbody tr th:only-of-type {\n",
       "        vertical-align: middle;\n",
       "    }\n",
       "\n",
       "    .dataframe tbody tr th {\n",
       "        vertical-align: top;\n",
       "    }\n",
       "\n",
       "    .dataframe thead th {\n",
       "        text-align: right;\n",
       "    }\n",
       "</style>\n",
       "<table border=\"1\" class=\"dataframe\">\n",
       "  <thead>\n",
       "    <tr style=\"text-align: right;\">\n",
       "      <th></th>\n",
       "      <th>Unnamed: 0</th>\n",
       "      <th>Zone</th>\n",
       "      <th>State</th>\n",
       "      <th>City</th>\n",
       "      <th>Name</th>\n",
       "      <th>Type</th>\n",
       "      <th>Establishment Year</th>\n",
       "      <th>time needed to visit in hrs</th>\n",
       "      <th>Google review rating</th>\n",
       "      <th>Entrance Fee in INR</th>\n",
       "      <th>Airport with 50km Radius</th>\n",
       "      <th>Weekly Off</th>\n",
       "      <th>Significance</th>\n",
       "      <th>DSLR Allowed</th>\n",
       "      <th>Number of google review in lakhs</th>\n",
       "      <th>Best Time to visit</th>\n",
       "    </tr>\n",
       "  </thead>\n",
       "  <tbody>\n",
       "    <tr>\n",
       "      <th>0</th>\n",
       "      <td>0</td>\n",
       "      <td>Northern</td>\n",
       "      <td>Delhi</td>\n",
       "      <td>Delhi</td>\n",
       "      <td>India Gate</td>\n",
       "      <td>War Memorial</td>\n",
       "      <td>1921</td>\n",
       "      <td>0.5</td>\n",
       "      <td>4.6</td>\n",
       "      <td>0</td>\n",
       "      <td>Yes</td>\n",
       "      <td>NaN</td>\n",
       "      <td>Historical</td>\n",
       "      <td>Yes</td>\n",
       "      <td>2.60</td>\n",
       "      <td>Evening</td>\n",
       "    </tr>\n",
       "    <tr>\n",
       "      <th>1</th>\n",
       "      <td>1</td>\n",
       "      <td>Northern</td>\n",
       "      <td>Delhi</td>\n",
       "      <td>Delhi</td>\n",
       "      <td>Humayun's Tomb</td>\n",
       "      <td>Tomb</td>\n",
       "      <td>1572</td>\n",
       "      <td>2.0</td>\n",
       "      <td>4.5</td>\n",
       "      <td>30</td>\n",
       "      <td>Yes</td>\n",
       "      <td>NaN</td>\n",
       "      <td>Historical</td>\n",
       "      <td>Yes</td>\n",
       "      <td>0.40</td>\n",
       "      <td>Afternoon</td>\n",
       "    </tr>\n",
       "    <tr>\n",
       "      <th>2</th>\n",
       "      <td>2</td>\n",
       "      <td>Northern</td>\n",
       "      <td>Delhi</td>\n",
       "      <td>Delhi</td>\n",
       "      <td>Akshardham Temple</td>\n",
       "      <td>Temple</td>\n",
       "      <td>2005</td>\n",
       "      <td>5.0</td>\n",
       "      <td>4.6</td>\n",
       "      <td>60</td>\n",
       "      <td>Yes</td>\n",
       "      <td>NaN</td>\n",
       "      <td>Religious</td>\n",
       "      <td>No</td>\n",
       "      <td>0.40</td>\n",
       "      <td>Afternoon</td>\n",
       "    </tr>\n",
       "    <tr>\n",
       "      <th>3</th>\n",
       "      <td>3</td>\n",
       "      <td>Northern</td>\n",
       "      <td>Delhi</td>\n",
       "      <td>Delhi</td>\n",
       "      <td>Waste to Wonder Park</td>\n",
       "      <td>Theme Park</td>\n",
       "      <td>2019</td>\n",
       "      <td>2.0</td>\n",
       "      <td>4.1</td>\n",
       "      <td>50</td>\n",
       "      <td>Yes</td>\n",
       "      <td>Monday</td>\n",
       "      <td>Environmental</td>\n",
       "      <td>Yes</td>\n",
       "      <td>0.27</td>\n",
       "      <td>Evening</td>\n",
       "    </tr>\n",
       "    <tr>\n",
       "      <th>4</th>\n",
       "      <td>4</td>\n",
       "      <td>Northern</td>\n",
       "      <td>Delhi</td>\n",
       "      <td>Delhi</td>\n",
       "      <td>Jantar Mantar</td>\n",
       "      <td>Observatory</td>\n",
       "      <td>1724</td>\n",
       "      <td>2.0</td>\n",
       "      <td>4.2</td>\n",
       "      <td>15</td>\n",
       "      <td>Yes</td>\n",
       "      <td>NaN</td>\n",
       "      <td>Scientific</td>\n",
       "      <td>Yes</td>\n",
       "      <td>0.31</td>\n",
       "      <td>Morning</td>\n",
       "    </tr>\n",
       "  </tbody>\n",
       "</table>\n",
       "</div>"
      ],
      "text/plain": [
       "   Unnamed: 0      Zone  State   City                  Name          Type  \\\n",
       "0           0  Northern  Delhi  Delhi            India Gate  War Memorial   \n",
       "1           1  Northern  Delhi  Delhi        Humayun's Tomb          Tomb   \n",
       "2           2  Northern  Delhi  Delhi     Akshardham Temple        Temple   \n",
       "3           3  Northern  Delhi  Delhi  Waste to Wonder Park    Theme Park   \n",
       "4           4  Northern  Delhi  Delhi         Jantar Mantar   Observatory   \n",
       "\n",
       "  Establishment Year  time needed to visit in hrs  Google review rating  \\\n",
       "0               1921                          0.5                   4.6   \n",
       "1               1572                          2.0                   4.5   \n",
       "2               2005                          5.0                   4.6   \n",
       "3               2019                          2.0                   4.1   \n",
       "4               1724                          2.0                   4.2   \n",
       "\n",
       "   Entrance Fee in INR Airport with 50km Radius Weekly Off   Significance  \\\n",
       "0                    0                      Yes        NaN     Historical   \n",
       "1                   30                      Yes        NaN     Historical   \n",
       "2                   60                      Yes        NaN      Religious   \n",
       "3                   50                      Yes     Monday  Environmental   \n",
       "4                   15                      Yes        NaN     Scientific   \n",
       "\n",
       "  DSLR Allowed  Number of google review in lakhs Best Time to visit  \n",
       "0          Yes                              2.60            Evening  \n",
       "1          Yes                              0.40          Afternoon  \n",
       "2           No                              0.40          Afternoon  \n",
       "3          Yes                              0.27            Evening  \n",
       "4          Yes                              0.31            Morning  "
      ]
     },
     "execution_count": 80,
     "metadata": {},
     "output_type": "execute_result"
    }
   ],
   "source": [
    "data.head()"
   ]
  },
  {
   "cell_type": "code",
   "execution_count": 81,
   "metadata": {},
   "outputs": [
    {
     "name": "stdout",
     "output_type": "stream",
     "text": [
      "<class 'pandas.core.frame.DataFrame'>\n",
      "RangeIndex: 325 entries, 0 to 324\n",
      "Data columns (total 16 columns):\n",
      " #   Column                            Non-Null Count  Dtype  \n",
      "---  ------                            --------------  -----  \n",
      " 0   Unnamed: 0                        325 non-null    int64  \n",
      " 1   Zone                              325 non-null    object \n",
      " 2   State                             325 non-null    object \n",
      " 3   City                              325 non-null    object \n",
      " 4   Name                              325 non-null    object \n",
      " 5   Type                              325 non-null    object \n",
      " 6   Establishment Year                325 non-null    object \n",
      " 7   time needed to visit in hrs       325 non-null    float64\n",
      " 8   Google review rating              325 non-null    float64\n",
      " 9   Entrance Fee in INR               325 non-null    int64  \n",
      " 10  Airport with 50km Radius          325 non-null    object \n",
      " 11  Weekly Off                        32 non-null     object \n",
      " 12  Significance                      325 non-null    object \n",
      " 13  DSLR Allowed                      325 non-null    object \n",
      " 14  Number of google review in lakhs  325 non-null    float64\n",
      " 15  Best Time to visit                325 non-null    object \n",
      "dtypes: float64(3), int64(2), object(11)\n",
      "memory usage: 40.8+ KB\n"
     ]
    }
   ],
   "source": [
    "data.info()"
   ]
  },
  {
   "cell_type": "code",
   "execution_count": 82,
   "metadata": {},
   "outputs": [
    {
     "data": {
      "text/html": [
       "<div>\n",
       "<style scoped>\n",
       "    .dataframe tbody tr th:only-of-type {\n",
       "        vertical-align: middle;\n",
       "    }\n",
       "\n",
       "    .dataframe tbody tr th {\n",
       "        vertical-align: top;\n",
       "    }\n",
       "\n",
       "    .dataframe thead th {\n",
       "        text-align: right;\n",
       "    }\n",
       "</style>\n",
       "<table border=\"1\" class=\"dataframe\">\n",
       "  <thead>\n",
       "    <tr style=\"text-align: right;\">\n",
       "      <th></th>\n",
       "      <th>Unnamed: 0</th>\n",
       "      <th>time needed to visit in hrs</th>\n",
       "      <th>Google review rating</th>\n",
       "      <th>Entrance Fee in INR</th>\n",
       "      <th>Number of google review in lakhs</th>\n",
       "    </tr>\n",
       "  </thead>\n",
       "  <tbody>\n",
       "    <tr>\n",
       "      <th>count</th>\n",
       "      <td>325.000000</td>\n",
       "      <td>325.000000</td>\n",
       "      <td>325.000000</td>\n",
       "      <td>325.000000</td>\n",
       "      <td>325.000000</td>\n",
       "    </tr>\n",
       "    <tr>\n",
       "      <th>mean</th>\n",
       "      <td>162.000000</td>\n",
       "      <td>1.807692</td>\n",
       "      <td>4.486154</td>\n",
       "      <td>115.809231</td>\n",
       "      <td>0.408438</td>\n",
       "    </tr>\n",
       "    <tr>\n",
       "      <th>std</th>\n",
       "      <td>93.963645</td>\n",
       "      <td>0.971398</td>\n",
       "      <td>0.274580</td>\n",
       "      <td>530.859785</td>\n",
       "      <td>0.646668</td>\n",
       "    </tr>\n",
       "    <tr>\n",
       "      <th>min</th>\n",
       "      <td>0.000000</td>\n",
       "      <td>0.500000</td>\n",
       "      <td>1.400000</td>\n",
       "      <td>0.000000</td>\n",
       "      <td>0.010000</td>\n",
       "    </tr>\n",
       "    <tr>\n",
       "      <th>25%</th>\n",
       "      <td>81.000000</td>\n",
       "      <td>1.000000</td>\n",
       "      <td>4.400000</td>\n",
       "      <td>0.000000</td>\n",
       "      <td>0.059000</td>\n",
       "    </tr>\n",
       "    <tr>\n",
       "      <th>50%</th>\n",
       "      <td>162.000000</td>\n",
       "      <td>1.500000</td>\n",
       "      <td>4.500000</td>\n",
       "      <td>0.000000</td>\n",
       "      <td>0.170000</td>\n",
       "    </tr>\n",
       "    <tr>\n",
       "      <th>75%</th>\n",
       "      <td>243.000000</td>\n",
       "      <td>2.000000</td>\n",
       "      <td>4.600000</td>\n",
       "      <td>40.000000</td>\n",
       "      <td>0.500000</td>\n",
       "    </tr>\n",
       "    <tr>\n",
       "      <th>max</th>\n",
       "      <td>324.000000</td>\n",
       "      <td>7.000000</td>\n",
       "      <td>4.900000</td>\n",
       "      <td>7500.000000</td>\n",
       "      <td>7.400000</td>\n",
       "    </tr>\n",
       "  </tbody>\n",
       "</table>\n",
       "</div>"
      ],
      "text/plain": [
       "       Unnamed: 0  time needed to visit in hrs  Google review rating  \\\n",
       "count  325.000000                   325.000000            325.000000   \n",
       "mean   162.000000                     1.807692              4.486154   \n",
       "std     93.963645                     0.971398              0.274580   \n",
       "min      0.000000                     0.500000              1.400000   \n",
       "25%     81.000000                     1.000000              4.400000   \n",
       "50%    162.000000                     1.500000              4.500000   \n",
       "75%    243.000000                     2.000000              4.600000   \n",
       "max    324.000000                     7.000000              4.900000   \n",
       "\n",
       "       Entrance Fee in INR  Number of google review in lakhs  \n",
       "count           325.000000                        325.000000  \n",
       "mean            115.809231                          0.408438  \n",
       "std             530.859785                          0.646668  \n",
       "min               0.000000                          0.010000  \n",
       "25%               0.000000                          0.059000  \n",
       "50%               0.000000                          0.170000  \n",
       "75%              40.000000                          0.500000  \n",
       "max            7500.000000                          7.400000  "
      ]
     },
     "execution_count": 82,
     "metadata": {},
     "output_type": "execute_result"
    }
   ],
   "source": [
    "data.describe()"
   ]
  },
  {
   "cell_type": "markdown",
   "metadata": {},
   "source": [
    "# Data Visualization"
   ]
  },
  {
   "cell_type": "markdown",
   "metadata": {},
   "source": [
    "Google review rating"
   ]
  },
  {
   "cell_type": "code",
   "execution_count": 83,
   "metadata": {},
   "outputs": [
    {
     "data": {
      "image/png": "[encoded data removed]",
      "text/plain": [
       "<Figure size 800x400 with 1 Axes>"
      ]
     },
     "metadata": {},
     "output_type": "display_data"
    }
   ],
   "source": [
    "plt.figure(figsize=(8, 4))\n",
    "sns.histplot(data['Google review rating'], bins=10, kde=True)\n",
    "plt.title(\"Google Review Rating Distribution\")\n",
    "plt.show()"
   ]
  },
  {
   "cell_type": "markdown",
   "metadata": {},
   "source": [
    "time needed to visit in hrs"
   ]
  },
  {
   "cell_type": "code",
   "execution_count": 84,
   "metadata": {},
   "outputs": [
    {
     "data": {
      "image/png": "[encoded data removed]",
      "text/plain": [
       "<Figure size 800x400 with 1 Axes>"
      ]
     },
     "metadata": {},
     "output_type": "display_data"
    }
   ],
   "source": [
    "plt.figure(figsize=(8, 4))\n",
    "sns.histplot(data['time needed to visit in hrs'], bins=8, kde=True)\n",
    "plt.axvline(6, color='red', linestyle='--', label='6hr Threshold')\n",
    "plt.title(\"Visit Duration Distribution\")\n",
    "plt.legend()\n",
    "plt.show()"
   ]
  },
  {
   "cell_type": "markdown",
   "metadata": {},
   "source": [
    "Entrance Fee vs Google Rating"
   ]
  },
  {
   "cell_type": "code",
   "execution_count": 85,
   "metadata": {},
   "outputs": [
    {
     "data": {
      "image/png": "[encoded data removed]",
      "text/plain": [
       "<Figure size 800x400 with 1 Axes>"
      ]
     },
     "metadata": {},
     "output_type": "display_data"
    }
   ],
   "source": [
    "plt.figure(figsize=(8, 4))\n",
    "sns.scatterplot(x='Entrance Fee in INR', y='Google review rating', data=data)\n",
    "plt.title(\"Entrance Fee vs Google Rating\")\n",
    "plt.show()"
   ]
  },
  {
   "cell_type": "markdown",
   "metadata": {},
   "source": [
    "# **Data Analysis and Feature Engineering**\n"
   ]
  },
  {
   "cell_type": "markdown",
   "metadata": {},
   "source": [
    "# Numerical Features"
   ]
  },
  {
   "cell_type": "code",
   "execution_count": 86,
   "metadata": {},
   "outputs": [
    {
     "data": {
      "text/plain": [
       "Index(['Unnamed: 0', 'Zone', 'State', 'City', 'Name', 'Type',\n",
       "       'Establishment Year', 'time needed to visit in hrs',\n",
       "       'Google review rating', 'Entrance Fee in INR',\n",
       "       'Airport with 50km Radius', 'Weekly Off', 'Significance',\n",
       "       'DSLR Allowed', 'Number of google review in lakhs',\n",
       "       'Best Time to visit'],\n",
       "      dtype='object')"
      ]
     },
     "execution_count": 86,
     "metadata": {},
     "output_type": "execute_result"
    }
   ],
   "source": [
    "data.columns"
   ]
  },
  {
   "cell_type": "code",
   "execution_count": 87,
   "metadata": {},
   "outputs": [
    {
     "data": {
      "text/plain": [
       "count    325.000000\n",
       "mean       4.486154\n",
       "std        0.274580\n",
       "min        1.400000\n",
       "25%        4.400000\n",
       "50%        4.500000\n",
       "75%        4.600000\n",
       "max        4.900000\n",
       "Name: Google review rating, dtype: float64"
      ]
     },
     "execution_count": 87,
     "metadata": {},
     "output_type": "execute_result"
    }
   ],
   "source": [
    "data['Google review rating'].describe()"
   ]
  },
  {
   "cell_type": "code",
   "execution_count": 88,
   "metadata": {},
   "outputs": [
    {
     "data": {
      "text/plain": [
       "count     325.000000\n",
       "mean      115.809231\n",
       "std       530.859785\n",
       "min         0.000000\n",
       "25%         0.000000\n",
       "50%         0.000000\n",
       "75%        40.000000\n",
       "max      7500.000000\n",
       "Name: Entrance Fee in INR, dtype: float64"
      ]
     },
     "execution_count": 88,
     "metadata": {},
     "output_type": "execute_result"
    }
   ],
   "source": [
    "data['Entrance Fee in INR'].describe()"
   ]
  },
  {
   "cell_type": "code",
   "execution_count": 89,
   "metadata": {},
   "outputs": [
    {
     "data": {
      "text/plain": [
       "count    325.000000\n",
       "mean       0.408438\n",
       "std        0.646668\n",
       "min        0.010000\n",
       "25%        0.059000\n",
       "50%        0.170000\n",
       "75%        0.500000\n",
       "max        7.400000\n",
       "Name: Number of google review in lakhs, dtype: float64"
      ]
     },
     "execution_count": 89,
     "metadata": {},
     "output_type": "execute_result"
    }
   ],
   "source": [
    "data['Number of google review in lakhs'].describe()"
   ]
  },
  {
   "cell_type": "code",
   "execution_count": 90,
   "metadata": {},
   "outputs": [],
   "source": [
    "data['Number of Google Reviews'] = data['Number of google review in lakhs'].astype(float) * 1e5"
   ]
  },
  {
   "cell_type": "code",
   "execution_count": 91,
   "metadata": {},
   "outputs": [],
   "source": [
    "# Normalize ratings (0-1 scale)\n",
    "data['Normalized Rating'] = data['Google review rating'] / 5  \n",
    "\n",
    "# Normalize Entrance Fee \n",
    "data['Normalized Fee'] = 1 - (data['Entrance Fee in INR'] / max(data['Entrance Fee in INR']))\n",
    "\n",
    "# Normalize Time Needed (Assuming max = 24 hours)\n",
    "data['Normalized Time'] = 1 - (data['time needed to visit in hrs'] / max(data['time needed to visit in hrs']))\n",
    "\n",
    "# Normalize Number of Reviews \n",
    "data['Normalized Reviews'] = data['Number of Google Reviews'] / max(data['Number of Google Reviews'])"
   ]
  },
  {
   "cell_type": "markdown",
   "metadata": {},
   "source": [
    "# Categorical Feature Analysis"
   ]
  },
  {
   "cell_type": "markdown",
   "metadata": {},
   "source": [
    "Weekly Off"
   ]
  },
  {
   "cell_type": "code",
   "execution_count": 92,
   "metadata": {},
   "outputs": [
    {
     "data": {
      "text/plain": [
       "Weekly Off\n",
       "Monday     23\n",
       "Friday      5\n",
       "Sunday      2\n",
       "Yes         1\n",
       "Tuesday     1\n",
       "Name: count, dtype: int64"
      ]
     },
     "execution_count": 92,
     "metadata": {},
     "output_type": "execute_result"
    }
   ],
   "source": [
    "data['Weekly Off'].value_counts()"
   ]
  },
  {
   "cell_type": "code",
   "execution_count": 93,
   "metadata": {},
   "outputs": [],
   "source": [
    "def weekly_off_penalty(weekly_off):\n",
    "    if pd.isna(weekly_off):  \n",
    "        return 1  \n",
    "    elif 'Saturday' in weekly_off and 'Sunday' in weekly_off:\n",
    "        return 0  \n",
    "    elif 'Saturday' in weekly_off or 'Sunday' in weekly_off:\n",
    "        return 0.5  \n",
    "    else:\n",
    "        return 1\n",
    "\n",
    "data['Weekend Availability Score'] = data['Weekly Off'].apply(weekly_off_penalty)"
   ]
  },
  {
   "cell_type": "markdown",
   "metadata": {},
   "source": [
    "Significance"
   ]
  },
  {
   "cell_type": "code",
   "execution_count": 94,
   "metadata": {},
   "outputs": [
    {
     "data": {
      "text/plain": [
       "Significance\n",
       "Historical            78\n",
       "Religious             75\n",
       "Nature                47\n",
       "Recreational          30\n",
       "Wildlife              29\n",
       "Cultural              13\n",
       "Scenic                10\n",
       "Shopping               7\n",
       "Entertainment          5\n",
       "Adventure              5\n",
       "Architectural          4\n",
       "Botanical              3\n",
       "Environmental          2\n",
       "Natural Wonder         2\n",
       "Artistic               2\n",
       "Educational            2\n",
       "Sports                 2\n",
       "Scientific             2\n",
       "Spiritual              1\n",
       "Archaeological         1\n",
       "Agricultural           1\n",
       "Engineering Marvel     1\n",
       "Market                 1\n",
       "Trekking               1\n",
       "Food                   1\n",
       "Name: count, dtype: int64"
      ]
     },
     "execution_count": 94,
     "metadata": {},
     "output_type": "execute_result"
    }
   ],
   "source": [
    "data['Significance'].value_counts()"
   ]
  },
  {
   "cell_type": "code",
   "execution_count": 95,
   "metadata": {},
   "outputs": [],
   "source": [
    "significance_weights = {\n",
    "    'Historical': 0.3,\n",
    "    'Religious': 0.2,\n",
    "    'Nature': 0.3,   \n",
    "    'Recreational': 0.25,\n",
    "    'Wildlife': 0.25,\n",
    "    'Adventure': 0.35, \n",
    "    'Cultural': 0.15,\n",
    "    'Architectural': 0.15,\n",
    "    'Entertainment': 0.15,\n",
    "    'Natural Wonder': 0.2,\n",
    "    'Archaeological': 0.15,\n",
    "    'Agricultural': 0.05,\n",
    "    'Market': 0.05,\n",
    "    'Trekking': 0.3,\n",
    "    'Food': 0.05\n",
    "}\n",
    "\n",
    "# Assign Significance Score\n",
    "data['Significance Score'] = data['Significance'].map(significance_weights).fillna(0.1)\n"
   ]
  },
  {
   "cell_type": "markdown",
   "metadata": {},
   "source": [
    "Type"
   ]
  },
  {
   "cell_type": "code",
   "execution_count": 96,
   "metadata": {},
   "outputs": [
    {
     "data": {
      "text/plain": [
       "Type\n",
       "Temple              59\n",
       "Beach               25\n",
       "Fort                22\n",
       "Lake                16\n",
       "National Park       14\n",
       "                    ..\n",
       "Vineyard             1\n",
       "Temples              1\n",
       "Prehistoric Site     1\n",
       "Scenic Point         1\n",
       "Race Track           1\n",
       "Name: count, Length: 78, dtype: int64"
      ]
     },
     "execution_count": 96,
     "metadata": {},
     "output_type": "execute_result"
    }
   ],
   "source": [
    "data['Type'].value_counts()"
   ]
  },
  {
   "cell_type": "code",
   "execution_count": 97,
   "metadata": {},
   "outputs": [],
   "source": [
    "type_weights = {\n",
    "    'Beach': 0.4,\n",
    "    'Temple': 0.4,\n",
    "    'National Park': 0.4,\n",
    "    'Lake': 0.2,\n",
    "    'Theme Park': 0.2,\n",
    "    'Fort': 0.3\n",
    "}\n",
    "data['Type Score'] = data['Type'].map(type_weights).fillna(0.1)"
   ]
  },
  {
   "cell_type": "markdown",
   "metadata": {},
   "source": [
    "Airport Score"
   ]
  },
  {
   "cell_type": "code",
   "execution_count": 98,
   "metadata": {},
   "outputs": [],
   "source": [
    "data['Airport Score'] = data['Airport with 50km Radius'].apply(lambda x: 0.05 if x == 'Yes' else 0)"
   ]
  },
  {
   "cell_type": "markdown",
   "metadata": {},
   "source": [
    "# **Ranking Algorithm**\n"
   ]
  },
  {
   "cell_type": "code",
   "execution_count": 105,
   "metadata": {},
   "outputs": [],
   "source": [
    "def calculate_score(row):\n",
    "    return (\n",
    "        0.25 * row['Normalized Rating'] +\n",
    "        0.30 * row['Normalized Time'] +\n",
    "        0.15 * row['Normalized Fee'] +\n",
    "        0.10 * row['Normalized Reviews'] +\n",
    "        0.05 * row['Airport Score'] +\n",
    "        0.10 * row['Weekend Availability Score'] +  \n",
    "        0.05 * row['Significance Score'] +  \n",
    "        0.05 * row['Type Score']\n",
    "    )\n",
    "\n",
    "data['Ranking Score'] = data.apply(calculate_score, axis=1)\n",
    "data = data.sort_values(by='Ranking Score', ascending=False)\n"
   ]
  },
  {
   "cell_type": "markdown",
   "metadata": {},
   "source": [
    "**Save Processed Data With Rank**"
   ]
  },
  {
   "cell_type": "code",
   "execution_count": 106,
   "metadata": {},
   "outputs": [],
   "source": [
    "data.to_csv('processed.csv', index=False)"
   ]
  },
  {
   "cell_type": "markdown",
   "metadata": {},
   "source": [
    "# **Recommendation System**"
   ]
  },
  {
   "cell_type": "code",
   "execution_count": null,
   "metadata": {},
   "outputs": [],
   "source": [
    "def recommend_places(city, top_n=5):\n",
    "    city_places = data[data['City'].str.lower() == city.lower()].copy()\n",
    "    if city_places.empty:\n",
    "        return f\"No places found for {city}.\"\n",
    "\n",
    "    city_places = city_places.sort_values(by='Ranking Score', ascending=False)\n",
    "    \n",
    "    return city_places[['Name', 'City', 'Ranking Score', 'Google review rating',\n",
    "                        'time needed to visit in hrs', 'Entrance Fee in INR', 'Significance']].head(top_n)\n"
   ]
  },
  {
   "cell_type": "markdown",
   "metadata": {},
   "source": [
    "# **Testing**"
   ]
  },
  {
   "cell_type": "code",
   "execution_count": 102,
   "metadata": {},
   "outputs": [
    {
     "data": {
      "text/html": [
       "<div>\n",
       "<style scoped>\n",
       "    .dataframe tbody tr th:only-of-type {\n",
       "        vertical-align: middle;\n",
       "    }\n",
       "\n",
       "    .dataframe tbody tr th {\n",
       "        vertical-align: top;\n",
       "    }\n",
       "\n",
       "    .dataframe thead th {\n",
       "        text-align: right;\n",
       "    }\n",
       "</style>\n",
       "<table border=\"1\" class=\"dataframe\">\n",
       "  <thead>\n",
       "    <tr style=\"text-align: right;\">\n",
       "      <th></th>\n",
       "      <th>Name</th>\n",
       "      <th>City</th>\n",
       "      <th>Ranking Score</th>\n",
       "      <th>Google review rating</th>\n",
       "      <th>time needed to visit in hrs</th>\n",
       "      <th>Entrance Fee in INR</th>\n",
       "      <th>Significance</th>\n",
       "    </tr>\n",
       "  </thead>\n",
       "  <tbody>\n",
       "    <tr>\n",
       "      <th>17</th>\n",
       "      <td>Gateway of India</td>\n",
       "      <td>Mumbai</td>\n",
       "      <td>0.808292</td>\n",
       "      <td>4.6</td>\n",
       "      <td>1.0</td>\n",
       "      <td>0</td>\n",
       "      <td>Historical</td>\n",
       "    </tr>\n",
       "    <tr>\n",
       "      <th>21</th>\n",
       "      <td>Mahalaxmi Temple</td>\n",
       "      <td>Mumbai</td>\n",
       "      <td>0.779102</td>\n",
       "      <td>4.7</td>\n",
       "      <td>1.0</td>\n",
       "      <td>0</td>\n",
       "      <td>Religious</td>\n",
       "    </tr>\n",
       "    <tr>\n",
       "      <th>18</th>\n",
       "      <td>Chhatrapati Shivaji Maharaj Vastu Sangrahalaya</td>\n",
       "      <td>Mumbai</td>\n",
       "      <td>0.754237</td>\n",
       "      <td>4.6</td>\n",
       "      <td>1.0</td>\n",
       "      <td>500</td>\n",
       "      <td>Historical</td>\n",
       "    </tr>\n",
       "    <tr>\n",
       "      <th>20</th>\n",
       "      <td>Siddhivinayak Temple</td>\n",
       "      <td>Mumbai</td>\n",
       "      <td>0.750975</td>\n",
       "      <td>4.8</td>\n",
       "      <td>2.0</td>\n",
       "      <td>0</td>\n",
       "      <td>Religious</td>\n",
       "    </tr>\n",
       "    <tr>\n",
       "      <th>16</th>\n",
       "      <td>Marine Drive</td>\n",
       "      <td>Mumbai</td>\n",
       "      <td>0.722056</td>\n",
       "      <td>4.5</td>\n",
       "      <td>2.0</td>\n",
       "      <td>0</td>\n",
       "      <td>Scenic</td>\n",
       "    </tr>\n",
       "  </tbody>\n",
       "</table>\n",
       "</div>"
      ],
      "text/plain": [
       "                                              Name    City  Ranking Score  \\\n",
       "17                                Gateway of India  Mumbai       0.808292   \n",
       "21                                Mahalaxmi Temple  Mumbai       0.779102   \n",
       "18  Chhatrapati Shivaji Maharaj Vastu Sangrahalaya  Mumbai       0.754237   \n",
       "20                            Siddhivinayak Temple  Mumbai       0.750975   \n",
       "16                                    Marine Drive  Mumbai       0.722056   \n",
       "\n",
       "    Google review rating  time needed to visit in hrs  Entrance Fee in INR  \\\n",
       "17                   4.6                          1.0                    0   \n",
       "21                   4.7                          1.0                    0   \n",
       "18                   4.6                          1.0                  500   \n",
       "20                   4.8                          2.0                    0   \n",
       "16                   4.5                          2.0                    0   \n",
       "\n",
       "   Significance  \n",
       "17   Historical  \n",
       "21    Religious  \n",
       "18   Historical  \n",
       "20    Religious  \n",
       "16       Scenic  "
      ]
     },
     "execution_count": 102,
     "metadata": {},
     "output_type": "execute_result"
    }
   ],
   "source": [
    "city_name = \"Mumbai\"\n",
    "pd.DataFrame(recommend_places(city_name))\n"
   ]
  },
  {
   "cell_type": "code",
   "execution_count": null,
   "metadata": {},
   "outputs": [],
   "source": []
  },
  {
   "cell_type": "code",
   "execution_count": null,
   "metadata": {},
   "outputs": [],
   "source": []
  }
 ],
 "metadata": {
  "kernelspec": {
   "display_name": "Python 3",
   "language": "python",
   "name": "python3"
  },
  "language_info": {
   "codemirror_mode": {
    "name": "ipython",
    "version": 3
   },
   "file_extension": ".py",
   "mimetype": "text/x-python",
   "name": "python",
   "nbconvert_exporter": "python",
   "pygments_lexer": "ipython3",
   "version": "3.11.4"
  }
 },
 "nbformat": 4,
 "nbformat_minor": 2
}
